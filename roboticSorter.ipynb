{
  "cells": [
    {
      "cell_type": "markdown",
      "metadata": {
        "id": "raFDpsjG2vYp"
      },
      "source": [
        "# Download dependencies\n"
      ]
    },
    {
      "cell_type": "code",
      "execution_count": null,
      "metadata": {
        "id": "JrQwSL2n2uTJ"
      },
      "outputs": [],
      "source": [
        "!pip3 install pybullet\n",
        "!pip3 install tqdm"
      ]
    },
    {
      "cell_type": "markdown",
      "metadata": {
        "id": "Nb1BbVXi3OSY"
      },
      "source": [
        "# Uploading and Importing files"
      ]
    },
    {
      "cell_type": "code",
      "execution_count": 2,
      "metadata": {
        "id": "FUNwcR-B7a19"
      },
      "outputs": [],
      "source": [
        "%%capture\n",
        "!apt-get install subversion\n",
        "!svn export https://github.com/dmklee/nu-cs4910-s22/trunk/homeworks/hw3/assets"
      ]
    },
    {
      "cell_type": "code",
      "execution_count": null,
      "metadata": {
        "id": "_9x31h28ZzpJ"
      },
      "outputs": [],
      "source": [
        "# download commands taken from https://medium.com/@acpanjan/download-google-drive-files-using-wget-3c2c025a8b99\n",
        "!wget --no-check-certificate 'https://docs.google.com/uc?export=download&id=1pRRRqHhUsGeh0FLbAmVek5qADWeazMDj' -O random_transitions.hdf5"
      ]
    },
    {
      "cell_type": "code",
      "execution_count": null,
      "metadata": {
        "id": "MR5H6aQ2njhV"
      },
      "outputs": [],
      "source": [
        "from google.colab import files\n",
        "uploaded = files.upload()"
      ]
    },
    {
      "cell_type": "markdown",
      "metadata": {
        "id": "R4-PqLV723tI"
      },
      "source": [
        "# Train Agent"
      ]
    },
    {
      "cell_type": "code",
      "execution_count": 1,
      "metadata": {
        "id": "JpzNet1nxjiX"
      },
      "outputs": [],
      "source": [
        "%matplotlib notebook\n",
        "from grasping_env import TopDownGraspingEnv\n",
        "from agent import DQNAgent\n",
        "\n",
        "\n",
        "env = TopDownGraspingEnv()\n",
        "\n",
        "NUM_STEPS = 2000"
      ]
    },
    {
      "cell_type": "code",
      "execution_count": null,
      "metadata": {
        "id": "jpRgm4ti29hT"
      },
      "outputs": [],
      "source": [
        "agent = DQNAgent(env= env,\n",
        "                 gamma= 0.9,\n",
        "                 learning_rate= 1e-3,\n",
        "                 buffer_size= 4000,\n",
        "                 batch_size= 64,\n",
        "                 initial_epsilon= 0.5,\n",
        "                 final_epsilon=0.01,\n",
        "                 exploration_fraction=0.9,\n",
        "                 target_network_update_freq= 200,\n",
        "                 update_method= 'standard',\n",
        "                 seed= 0,\n",
        "                 device= 'cuda',\n",
        "                 )\n",
        "\n",
        "# the simulator can be slow so I have already collected some transitions for you\n",
        "# using random policy, I recommend using them unless you have time to kill\n",
        "agent.buffer.load_transitions('random_transitions.hdf5')\n",
        "\n",
        "agent.train(NUM_STEPS, plotting_freq=250)"
      ]
    },
    {
      "cell_type": "code",
      "execution_count": null,
      "metadata": {
        "id": "ZGlRAKoCxshp"
      },
      "outputs": [],
      "source": [
        "agent = DQNAgent(env= env,\n",
        "                 gamma= 0.98,\n",
        "                 learning_rate= 1e-3,\n",
        "                 buffer_size= 4000,\n",
        "                 batch_size= 64,\n",
        "                 initial_epsilon= 0.5,\n",
        "                 final_epsilon=0.01,\n",
        "                 exploration_fraction=0.9,\n",
        "                 target_network_update_freq= 200,\n",
        "                 update_method= 'double'\n",
        "                 seed= 0,\n",
        "                 device= 'cuda',\n",
        "                 )\n",
        "agent.buffer.load_transitions('random_transitions.hdf5')\n",
        "\n",
        "agent.train(NUM_STEPS, plotting_freq=250)"
      ]
    }
  ],
  "metadata": {
    "accelerator": "GPU",
    "colab": {
      "authorship_tag": "ABX9TyOEMc6Do4cZp7CyjUHO3Ju0",
      "collapsed_sections": [],
      "include_colab_link": true,
      "name": "HW3.ipynb",
      "provenance": []
    },
    "kernelspec": {
      "display_name": "Python 3",
      "name": "python3"
    },
    "language_info": {
      "name": "python"
    }
  },
  "nbformat": 4,
  "nbformat_minor": 0
}
